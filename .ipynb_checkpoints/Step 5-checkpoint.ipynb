{
 "cells": [
  {
   "cell_type": "code",
   "execution_count": 10,
   "id": "6386130f",
   "metadata": {},
   "outputs": [
    {
     "data": {
      "text/plain": [
       "14"
      ]
     },
     "execution_count": 10,
     "metadata": {},
     "output_type": "execute_result"
    }
   ],
   "source": [
    "#Step 5-1\n",
    "#Method 1\n",
    "from typing import List\n",
    "\n",
    "def solve(a: list) -> int:\n",
    "    ans = 0\n",
    "    for num in a:\n",
    "        ans += num\n",
    "    return ans\n",
    "\n",
    "a = [2,7,1,4]\n",
    "\n",
    "solve(a)"
   ]
  },
  {
   "cell_type": "code",
   "execution_count": 11,
   "id": "b342fd04",
   "metadata": {},
   "outputs": [
    {
     "data": {
      "text/plain": [
       "14"
      ]
     },
     "execution_count": 11,
     "metadata": {},
     "output_type": "execute_result"
    }
   ],
   "source": [
    "#Step 5-1\n",
    "#Method 2\n",
    "from typing import List\n",
    "\n",
    "def solve(a: list) -> int:\n",
    "    return sum(a)\n",
    "\n",
    "a = [2,7,1,4]\n",
    "\n",
    "solve(a)"
   ]
  },
  {
   "cell_type": "code",
   "execution_count": null,
   "id": "7aac4138",
   "metadata": {},
   "outputs": [],
   "source": []
  }
 ],
 "metadata": {
  "kernelspec": {
   "display_name": "Python 3 (ipykernel)",
   "language": "python",
   "name": "python3"
  },
  "language_info": {
   "codemirror_mode": {
    "name": "ipython",
    "version": 3
   },
   "file_extension": ".py",
   "mimetype": "text/x-python",
   "name": "python",
   "nbconvert_exporter": "python",
   "pygments_lexer": "ipython3",
   "version": "3.10.5"
  }
 },
 "nbformat": 4,
 "nbformat_minor": 5
}
